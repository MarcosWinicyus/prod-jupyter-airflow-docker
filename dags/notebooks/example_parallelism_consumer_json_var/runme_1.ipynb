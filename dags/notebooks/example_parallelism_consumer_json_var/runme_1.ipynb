{
 "cells": [
  {
   "cell_type": "code",
   "execution_count": 2,
   "metadata": {
    "tags": [
     "parameters"
    ]
   },
   "outputs": [],
   "source": [
    "msgs = \"Consumer\""
   ]
  },
  {
   "cell_type": "code",
   "execution_count": 1,
   "metadata": {},
   "outputs": [],
   "source": [
    "import json\n",
    "import time\n",
    "\n",
    "def consumer():\n",
    "    while True:\n",
    "        with open(\"parallel_var.json\", \"r+\") as json_file:\n",
    "            vars = json.load(json_file)\n",
    "        \n",
    "\n",
    "            if vars['modified'] == False and vars['first_count'] != 0:\n",
    "                vars['cidades'].append(\"Pito\")\n",
    "                vars['cidades'].append(\"Quimba\")\n",
    "                vars['modified'] = True\n",
    "                \n",
    "                json_file.seek(0)\n",
    "                json.dump(vars, json_file, indent=4)\n",
    "                json_file.truncate()\n",
    "                return True\n",
    "            \n",
    "        time.sleep(1)"
   ]
  },
  {
   "cell_type": "code",
   "execution_count": null,
   "metadata": {},
   "outputs": [],
   "source": [
    "consumer()"
   ]
  }
 ],
 "metadata": {
  "kernelspec": {
   "display_name": "Python 3",
   "language": "python",
   "name": "python3"
  },
  "language_info": {
   "codemirror_mode": {
    "name": "ipython",
    "version": 3
   },
   "file_extension": ".py",
   "mimetype": "text/x-python",
   "name": "python",
   "nbconvert_exporter": "python",
   "pygments_lexer": "ipython3",
   "version": "3.7.6"
  }
 },
 "nbformat": 4,
 "nbformat_minor": 4
}
