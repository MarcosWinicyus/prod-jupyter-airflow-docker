{
 "cells": [
  {
   "cell_type": "code",
   "execution_count": 1,
   "metadata": {
    "execution": {
     "iopub.execute_input": "2020-08-05T19:54:05.787716Z",
     "iopub.status.busy": "2020-08-05T19:54:05.785976Z",
     "iopub.status.idle": "2020-08-05T19:54:05.790475Z",
     "shell.execute_reply": "2020-08-05T19:54:05.789305Z"
    },
    "jupyter": {
     "source_hidden": true
    },
    "papermill": {
     "duration": 0.026041,
     "end_time": "2020-08-05T19:54:05.790922",
     "exception": false,
     "start_time": "2020-08-05T19:54:05.764881",
     "status": "completed"
    },
    "tags": [
     "parameters"
    ]
   },
   "outputs": [],
   "source": [
    "msgs = \"Tarefa paralela\"\n",
    "time = '00:00'"
   ]
  },
  {
   "cell_type": "code",
   "execution_count": 2,
   "metadata": {
    "execution": {
     "iopub.execute_input": "2020-08-05T19:54:05.819325Z",
     "iopub.status.busy": "2020-08-05T19:54:05.817901Z",
     "iopub.status.idle": "2020-08-05T19:54:05.824522Z",
     "shell.execute_reply": "2020-08-05T19:54:05.823461Z"
    },
    "jupyter": {
     "source_hidden": true
    },
    "papermill": {
     "duration": 0.022992,
     "end_time": "2020-08-05T19:54:05.824941",
     "exception": false,
     "start_time": "2020-08-05T19:54:05.801949",
     "status": "completed"
    },
    "tags": [
     "injected-parameters"
    ]
   },
   "outputs": [],
   "source": [
    "# Parameters\n",
    "msgs = \"Tarefa paralela 1\"\n",
    "time = \"2020-08-05T19:52:00+00:00\"\n"
   ]
  },
  {
   "cell_type": "code",
   "execution_count": 3,
   "metadata": {
    "execution": {
     "iopub.execute_input": "2020-08-05T19:54:05.852928Z",
     "iopub.status.busy": "2020-08-05T19:54:05.851829Z",
     "iopub.status.idle": "2020-08-05T19:54:05.866298Z",
     "shell.execute_reply": "2020-08-05T19:54:05.864550Z"
    },
    "jupyter": {
     "source_hidden": true
    },
    "papermill": {
     "duration": 0.034678,
     "end_time": "2020-08-05T19:54:05.866860",
     "exception": false,
     "start_time": "2020-08-05T19:54:05.832182",
     "status": "completed"
    },
    "tags": []
   },
   "outputs": [
    {
     "name": "stdout",
     "output_type": "stream",
     "text": [
      "Writing in file\n"
     ]
    }
   ],
   "source": [
    "import datetime as dt\n",
    "\n",
    "print('Writing in file')\n",
    "\n",
    "with open('dags/notebooks/paralelo.txt', 'a+', encoding='utf8') as f:\n",
    "    now = dt.datetime.now()\n",
    "    t = now.strftime(\"%Y-%m-%d %H:%M\")\n",
    "    f.write(msgs + '  -- ' + str(time) + '\\n')"
   ]
  }
 ],
 "metadata": {
  "kernelspec": {
   "display_name": "Python 3",
   "language": "python",
   "name": "python3"
  },
  "language_info": {
   "codemirror_mode": {
    "name": "ipython",
    "version": 3
   },
   "file_extension": ".py",
   "mimetype": "text/x-python",
   "name": "python",
   "nbconvert_exporter": "python",
   "pygments_lexer": "ipython3",
   "version": "3.7.6"
  },
  "papermill": {
   "duration": 1.794093,
   "end_time": "2020-08-05T19:54:06.196992",
   "environment_variables": {},
   "exception": null,
   "input_path": "dags/notebooks/runme_1.ipynb",
   "output_path": "dags/notebooks/saida.ipynb",
   "parameters": {
    "msgs": "Tarefa paralela 1",
    "time": "2020-08-05T19:52:00+00:00"
   },
   "start_time": "2020-08-05T19:54:04.402899",
   "version": "2.1.2"
  }
 },
 "nbformat": 4,
 "nbformat_minor": 4
}