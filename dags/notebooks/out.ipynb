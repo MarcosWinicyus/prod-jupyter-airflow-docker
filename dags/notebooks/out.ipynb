{
 "cells": [
  {
   "cell_type": "code",
   "execution_count": 1,
   "metadata": {
    "execution": {
     "iopub.execute_input": "2020-08-05T19:54:25.227795Z",
     "iopub.status.busy": "2020-08-05T19:54:25.224704Z",
     "iopub.status.idle": "2020-08-05T19:54:25.229242Z",
     "shell.execute_reply": "2020-08-05T19:54:25.229974Z"
    },
    "jupyter": {
     "source_hidden": true
    },
    "papermill": {
     "duration": 0.02708,
     "end_time": "2020-08-05T19:54:25.230430",
     "exception": false,
     "start_time": "2020-08-05T19:54:25.203350",
     "status": "completed"
    },
    "tags": [
     "injected-parameters"
    ]
   },
   "outputs": [],
   "source": [
    "# Parameters\n",
    "msgs = \"Ran from Airflow at 2020-08-05T19:52:00+00:00!\"\n"
   ]
  },
  {
   "cell_type": "code",
   "execution_count": 2,
   "metadata": {
    "execution": {
     "iopub.execute_input": "2020-08-05T19:54:25.258571Z",
     "iopub.status.busy": "2020-08-05T19:54:25.257693Z",
     "iopub.status.idle": "2020-08-05T19:54:25.266727Z",
     "shell.execute_reply": "2020-08-05T19:54:25.265798Z"
    },
    "jupyter": {
     "source_hidden": true
    },
    "papermill": {
     "duration": 0.0271,
     "end_time": "2020-08-05T19:54:25.266989",
     "exception": false,
     "start_time": "2020-08-05T19:54:25.239889",
     "status": "completed"
    },
    "tags": []
   },
   "outputs": [],
   "source": [
    "msgs = \"Hello, World!\""
   ]
  },
  {
   "cell_type": "code",
   "execution_count": 3,
   "metadata": {
    "execution": {
     "iopub.execute_input": "2020-08-05T19:54:25.295521Z",
     "iopub.status.busy": "2020-08-05T19:54:25.293718Z",
     "iopub.status.idle": "2020-08-05T19:54:25.301469Z",
     "shell.execute_reply": "2020-08-05T19:54:25.300170Z"
    },
    "jupyter": {
     "source_hidden": true
    },
    "papermill": {
     "duration": 0.02392,
     "end_time": "2020-08-05T19:54:25.301783",
     "exception": false,
     "start_time": "2020-08-05T19:54:25.277863",
     "status": "completed"
    },
    "tags": []
   },
   "outputs": [
    {
     "name": "stdout",
     "output_type": "stream",
     "text": [
      "Hello, World!\n"
     ]
    }
   ],
   "source": [
    "print(msgs)"
   ]
  },
  {
   "cell_type": "code",
   "execution_count": null,
   "metadata": {
    "jupyter": {
     "source_hidden": true
    },
    "papermill": {
     "duration": 0.010176,
     "end_time": "2020-08-05T19:54:25.322727",
     "exception": false,
     "start_time": "2020-08-05T19:54:25.312551",
     "status": "completed"
    },
    "tags": []
   },
   "outputs": [],
   "source": []
  }
 ],
 "metadata": {
  "celltoolbar": "Tags",
  "kernelspec": {
   "display_name": "Python 3",
   "language": "python",
   "name": "python3"
  },
  "language_info": {
   "codemirror_mode": {
    "name": "ipython",
    "version": 3
   },
   "file_extension": ".py",
   "mimetype": "text/x-python",
   "name": "python",
   "nbconvert_exporter": "python",
   "pygments_lexer": "ipython3",
   "version": "3.7.6"
  },
  "papermill": {
   "duration": 1.688778,
   "end_time": "2020-08-05T19:54:25.652640",
   "environment_variables": {},
   "exception": null,
   "input_path": "dags/notebooks/hello_world.ipynb",
   "output_path": "dags/notebooks/out.ipynb",
   "parameters": {
    "msgs": "Ran from Airflow at 2020-08-05T19:52:00+00:00!"
   },
   "start_time": "2020-08-05T19:54:23.963862",
   "version": "2.1.2"
  }
 },
 "nbformat": 4,
 "nbformat_minor": 4
}